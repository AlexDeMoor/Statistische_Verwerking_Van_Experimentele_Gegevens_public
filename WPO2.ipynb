{
 "cells": [
  {
   "cell_type": "markdown",
   "metadata": {},
   "source": [
    "# WPO 2\n",
    "[Oefening 1](#oef1)\n",
    "\n",
    "[Oefening 2](#oef2)\n",
    "***"
   ]
  },
  {
   "cell_type": "code",
   "execution_count": 1,
   "metadata": {},
   "outputs": [],
   "source": [
    "import numpy as np # numerical calculations in python\n",
    "from scipy.optimize import fmin, fsolve\n",
    "from scipy.misc import derivative\n",
    "import matplotlib.pyplot as plt # package for plotting\n",
    "from matplotlib import rc\n",
    "#rc('text', usetex=True)\n",
    "\n",
    "# allow to show plots inline\n",
    "%matplotlib inline "
   ]
  },
  {
   "cell_type": "markdown",
   "metadata": {},
   "source": [
    "<a id=\"oef1\"></a> \n",
    "## Oefening 1:\n",
    "Gegeven een normaal verdeelde dataset:\n",
    "### $f(x_{i}|\\mu,\\sigma) = \\frac{1}{\\sigma\\sqrt{2\\pi}} e^{-\\frac{\\left(x_{i}-\\mu\\right)^2}{2\\sigma^2}} $\n",
    "Schat de paramters $\\mu$ en $\\sigma$ m.b.v. de maximum likelihood methode. Bepaal de onzekerheden op deze geschatte parameters, zowel grafisch als analytisch."
   ]
  },
  {
   "cell_type": "code",
   "execution_count": 2,
   "metadata": {},
   "outputs": [],
   "source": [
    "MU = 1.3\n",
    "SIGMA = 4.5\n",
    "data = np.random.normal(MU,SIGMA,1000)"
   ]
  },
  {
   "cell_type": "code",
   "execution_count": 3,
   "metadata": {},
   "outputs": [
    {
     "data": {
      "image/png": "[encoded data removed]",
      "text/plain": [
       "<Figure size 720x504 with 1 Axes>"
      ]
     },
     "metadata": {
      "needs_background": "light"
     },
     "output_type": "display_data"
    }
   ],
   "source": [
    "# Toon de histogram \n",
    "fig = plt.figure(figsize=[10,7]) \n",
    "ax = fig.add_subplot(1, 1, 1)\n",
    "ax.hist(data, 20)\n",
    "plt.xlabel('$x_{i}$',fontsize=25);\n",
    "plt.ylabel('yield',fontsize=20);\n",
    "for tick in ax.xaxis.get_major_ticks():\n",
    "    tick.label.set_fontsize(20) \n",
    "for tick in ax.yaxis.get_major_ticks():\n",
    "    tick.label.set_fontsize(20) "
   ]
  },
  {
   "cell_type": "code",
   "execution_count": 4,
   "metadata": {},
   "outputs": [
    {
     "ename": "IndentationError",
     "evalue": "expected an indented block after function definition on line 1 (3176748329.py, line 2)",
     "output_type": "error",
     "traceback": [
      "\u001b[0;36m  Input \u001b[0;32mIn [4]\u001b[0;36m\u001b[0m\n\u001b[0;31m    # return de kansverdelingsfunctie van een normale verdeling\u001b[0m\n\u001b[0m                                                               ^\u001b[0m\n\u001b[0;31mIndentationError\u001b[0m\u001b[0;31m:\u001b[0m expected an indented block after function definition on line 1\n"
     ]
    }
   ],
   "source": [
    "def normalpdf(x,mu,sigma):\n",
    "    # return de kansverdelingsfunctie van een normale verdeling"
   ]
  },
  {
   "cell_type": "code",
   "execution_count": 5,
   "metadata": {},
   "outputs": [
    {
     "ename": "NameError",
     "evalue": "name 'normalpdf' is not defined",
     "output_type": "error",
     "traceback": [
      "\u001b[0;31m---------------------------------------------------------------------------\u001b[0m",
      "\u001b[0;31mNameError\u001b[0m                                 Traceback (most recent call last)",
      "Input \u001b[0;32mIn [5]\u001b[0m, in \u001b[0;36m<cell line: 3>\u001b[0;34m()\u001b[0m\n\u001b[1;32m      1\u001b[0m \u001b[38;5;66;03m# plot de histogram samen met de theoretische kansverdelingsfunctie\u001b[39;00m\n\u001b[1;32m      2\u001b[0m _x \u001b[38;5;241m=\u001b[39m np\u001b[38;5;241m.\u001b[39marange(\u001b[38;5;241m-\u001b[39m\u001b[38;5;241m15\u001b[39m,\u001b[38;5;241m15\u001b[39m,\u001b[38;5;241m0.1\u001b[39m)\n\u001b[0;32m----> 3\u001b[0m _y \u001b[38;5;241m=\u001b[39m \u001b[43mnormalpdf\u001b[49m(_x,MU,SIGMA)\n\u001b[1;32m      4\u001b[0m fig2 \u001b[38;5;241m=\u001b[39m plt\u001b[38;5;241m.\u001b[39mfigure(figsize\u001b[38;5;241m=\u001b[39m[\u001b[38;5;241m10\u001b[39m,\u001b[38;5;241m7\u001b[39m]) \n\u001b[1;32m      5\u001b[0m ax2 \u001b[38;5;241m=\u001b[39m fig2\u001b[38;5;241m.\u001b[39madd_subplot(\u001b[38;5;241m1\u001b[39m, \u001b[38;5;241m1\u001b[39m, \u001b[38;5;241m1\u001b[39m)\n",
      "\u001b[0;31mNameError\u001b[0m: name 'normalpdf' is not defined"
     ]
    }
   ],
   "source": [
    "# plot de histogram samen met de theoretische kansverdelingsfunctie\n",
    "_x = np.arange(-15,15,0.1)\n",
    "_y = normalpdf(_x,MU,SIGMA)\n",
    "fig2 = plt.figure(figsize=[10,7]) \n",
    "ax2 = fig2.add_subplot(1, 1, 1)\n",
    "ax2.hist(data, 20,density=True, label=\"normalized histogram\") # density=True will normalize the histogram to 1!\n",
    "ax2.plot(_x,_y, label=\"PDF $f(x_{i}|\\mu=%.1f, \\sigma=%.1f)$\"%(MU,SIGMA))\n",
    "plt.xlabel('$x_{i}$',fontsize=25);\n",
    "plt.ylabel('$f(x_{i} | \\mu, \\sigma)$',fontsize=20);\n",
    "for tick in ax2.xaxis.get_major_ticks():\n",
    "    tick.label.set_fontsize(20) \n",
    "for tick in ax2.yaxis.get_major_ticks():\n",
    "    tick.label.set_fontsize(20)\n",
    "ax2.legend(fontsize=16, loc='upper left')"
   ]
  },
  {
   "cell_type": "code",
   "execution_count": 6,
   "metadata": {},
   "outputs": [
    {
     "ename": "IndentationError",
     "evalue": "expected an indented block after function definition on line 4 (2928117148.py, line 6)",
     "output_type": "error",
     "traceback": [
      "\u001b[0;36m  Input \u001b[0;32mIn [6]\u001b[0;36m\u001b[0m\n\u001b[0;31m    LogL_fun = lambda q: ## -logL\u001b[0m\n\u001b[0m    ^\u001b[0m\n\u001b[0;31mIndentationError\u001b[0m\u001b[0;31m:\u001b[0m expected an indented block after function definition on line 4\n"
     ]
    }
   ],
   "source": [
    "# definieer de negatieve log likelihood. Ik heb dit zowel via een functie als via een \"lambda functie\" gedaan.\n",
    "# de eerste functie is handig om the plotten, the tweede voor de minimalisatie\n",
    "\n",
    "def LogL(q):\n",
    "    # return -logL\n",
    "LogL_fun = lambda q: ## -logL\n",
    "# minimaliseer de -LogL en bepaal de parameters mu en sigma"
   ]
  },
  {
   "cell_type": "markdown",
   "metadata": {},
   "source": [
    "### Onzekerheid via de visuele methode"
   ]
  },
  {
   "cell_type": "markdown",
   "metadata": {},
   "source": [
    "####  Voor het gemiddelde"
   ]
  },
  {
   "cell_type": "markdown",
   "metadata": {
    "scrolled": true
   },
   "source": [
    "Bepaal via de visuele methode de onzekerheid op $\\mu$\n",
    " \n",
    "tip:\n",
    "\n",
    "$Log(L(\\mu,\\hat{\\sigma})) - Log(L(\\hat{\\mu},\\hat{\\sigma})) -s^2/ 2 = 0$\n"
   ]
  },
  {
   "cell_type": "markdown",
   "metadata": {},
   "source": [
    "#### voor de standaardafwijking"
   ]
  },
  {
   "cell_type": "code",
   "execution_count": 7,
   "metadata": {},
   "outputs": [],
   "source": [
    "# en op sigma"
   ]
  },
  {
   "cell_type": "markdown",
   "metadata": {},
   "source": [
    "#### Plot de resultaten"
   ]
  },
  {
   "cell_type": "code",
   "execution_count": 8,
   "metadata": {
    "scrolled": true
   },
   "outputs": [],
   "source": [
    "# toon visueel hoe de -logL varieert met je parameters mu en sigma, \n",
    "# waar het minimum zich bevindt en waar het onzekerheidsinterval zich bevindt."
   ]
  },
  {
   "cell_type": "markdown",
   "metadata": {},
   "source": [
    "### Onzekerheid met de analytische methode\n",
    "tip:   $\\sigma_{\\mu}^2 = \\left( \\partial^2 Log(L) / \\partial \\mu^2 \\right)^{-1} | \\mu = \\hat{\\mu}, \\sigma = \\hat{\\sigma}$"
   ]
  },
  {
   "cell_type": "code",
   "execution_count": 9,
   "metadata": {},
   "outputs": [],
   "source": [
    "def partial_second_derivative(func, var=0, point=[]):\n",
    "    args = point[:]\n",
    "    def wraps(x):\n",
    "        args[var] = x\n",
    "        return func(args)\n",
    "    return derivative(wraps, point[var], dx = 1e-6, n=2)\n",
    "\n",
    "## Bepaal ook aan de hand van de analytische methode de onzekerheden op mu en sigma"
   ]
  },
  {
   "cell_type": "markdown",
   "metadata": {},
   "source": [
    "<a id=\"oef2\"></a> \n",
    "## Oefening 2:\n",
    "Gegeven dezelfde normaal verdeelde dataset als in de vorige oefening:\n",
    "### $f(x_{i}|\\mu,\\sigma) = \\frac{1}{\\sigma\\sqrt{2\\pi}} e^{-\\frac{\\left(x_{i}-\\mu\\right)^2}{2\\sigma^2}} $\n",
    "Schat de paramters $\\mu$ en $\\sigma$ m.b.v. de kleinste kwadraten methode. Bepaal de onzekerheden (grafisch) op deze geschatte parameters"
   ]
  },
  {
   "cell_type": "code",
   "execution_count": 10,
   "metadata": {},
   "outputs": [
    {
     "data": {
      "image/png": "[encoded data removed]",
      "text/plain": [
       "<Figure size 432x288 with 1 Axes>"
      ]
     },
     "metadata": {
      "needs_background": "light"
     },
     "output_type": "display_data"
    }
   ],
   "source": [
    "# voor de kleinste kwadraten methode zal je de data moeten opdelen in bins van een histogram.\n",
    "nbins = 20\n",
    "bincontent, binedges, patches = plt.hist(data, nbins);\n",
    "binsize = np.abs(binedges[1] - binedges[0])\n",
    "bincenters = np.asarray([i-binsize/2. for i in binedges])\n",
    "bincenters = bincenters[1:] # the first binedge is the left edge, so it should not be counted here"
   ]
  },
  {
   "cell_type": "markdown",
   "metadata": {},
   "source": [
    "#### definieer de chi2 aan de hand van de gemeten en de voorspelde inhoud van elke bin.\n",
    "\n",
    "In de $\\chi^2$ zal je dus de inhoud van elke bin vergelijken met de voorspelde inhoud volgens de kansverdelingsfunctie $f(x_{i}|\\mu,\\sigma)$. Maar die kansverdelingsfunctie is genormaliseerd! Je kan bijvoorbeeld de waarde van $f(x_{i}|\\mu,\\sigma)$ evalueren in het midden van een gegeven bin (bincenters hierboven), maar dat geeft je een getal tussen 0 en 1. Om echt het aantal verwachte events te bekomen moet je dat nog vermigvuldigen met een bepaalde factor. Welke? \n",
    "\n",
    "tip: Hoe meer events je genereert, hoe groter de inhoud van elke bin zal zijn, dus het aantal datapunten zal deel uitmaken van je normalisatie! Maar ook de breedte van je bin speelt natuurlijk een rol, want hoe breder je de bin maakt, hoe meer datapunten erin zullen vallen! Dus ook dat zal deel uitmaken van je normalisatie! \n",
    "\n",
    "denk als volgt: De kans dat een datapunt in het interval [x1,x2] terecht komt wordt in principe gegeven door de integraal van $f(x_{i}|\\mu,\\sigma)$ tussen die twee punten $(\\int_{x_{1}}^{x_{2}}f(x|\\mu,\\sigma) dx)$. Echter ga je dat nu benaderen door $f$ te evalueren in het centrum van de bin (noem het $x_c$):\n",
    "\n",
    "#### $\\int_{x_{1}}^{x_{2}}f(x_c|\\mu,\\sigma) dx $\n",
    "#### = $f(x_c|\\mu,\\sigma) \\cdot \\int_{x_{1}}^{x_{2}} dx $\n",
    "#### = $f(x_c|\\mu,\\sigma) \\cdot \\Delta x $ (met $\\Delta x$ de binbreedte)\n",
    "\n",
    "Die laatste uitdrukking geeft je dus jouw benadering voor de kans dat een datapunt in die bin valt. Dat moet je dan nog normaliseren met het aantal datapunten N, nl: $f(x_c|\\mu,\\sigma) \\cdot \\Delta x \\cdot N$. Dit is nu je verwachtte aantal events in die bin, en dat kan je vergelijken met het geobserveede aantal uit de histogram!\n",
    "\n",
    "#### Vraag: Wat is de onzekerheid op de inhoud van een bin in een histogram met N entries? tip: je telt in een bin het aantal voorvallen in een gegeven interval [x1,x2]. Denk hierbij aan het geval van radioactiviteit waarbij je het aantal vervallen telt in een tijdsinterval [t1,t2]!"
   ]
  },
  {
   "cell_type": "markdown",
   "metadata": {},
   "source": [
    "#### $\\chi^2$ in woorden\n",
    "### $\\chi^2 = \\sum\\limits_{i = 1}^{N} \\frac{\\left(\\text{observed}_i - \\text{expected}_i\\right)^2}{\\left(\\text{onzekerheid_i}\\right)^2}$\n",
    "\n",
    "#### $\\chi^2$ in symbolen: veronderstel N meetpunten van een grootheid $y$ als functie van een andere grootheid $x$:\n",
    "\n",
    "situatie 1: bijvoorbeeld meet de tijd als functie van de afstand, of de Intensiteit als functie van de gereflecteerde hoek of het aantal radioactieve vervallen nadat het een materiaal heeft doorkruisd, als functie van de dikte van dat materiaal, etc... --> er bestaat een theoretisch verband $y = f(x|\\vec{\\theta})$ die de twee relateert.\n",
    "\n",
    "situatie 2: een histogram die een benadering geeft voor een kansverdelingsfunctie $y = f(x|\\vec{\\theta})$ als functie van de observaties (en te schatten parameters). De bins geven je dan een aantal discrete $x$ waarden, en de inhoud van elke bin geeft je dan een reeks overeenkomstige $y$ waarden die ja kan vergelijken met de kansverdelingsfunctie $f_X$.\n",
    "\n",
    "### $\\chi^2 = \\sum\\limits_{i = 1}^{N} \\frac{\\left(y_i - f(x_i|\\vec{\\theta})\\right)^2}{\\sigma_{i}^2}$\n",
    "\n",
    "Waarbij $y_i$ de waargenomen y-waarden (of bin-contents) zijn bij het pun $x_i$, en $f(x_i|\\vec{\\theta})$ de theoretisch voorspelde y-waarden bij het punt $x_i$. $\\sigma_{i}$ is de onzekerheid op de $i$-de meetwaarde van $y$.\n",
    "\n",
    "In het speciaal geval van situatie 2 (histogram) geeft dit een specifieke uitdrukking. Veronderstel dat je N bins hebt, en dat je een totaal van $n$ metingen hebt gedaan die je in die N bins hebt verdeeld, met een theoretische PDF $f_{X}(x_i|\\vec{\\theta})$ dan wordt de $\\chi^2$ gedefinieerd als:\n",
    "\n",
    "### $\\chi^2 = \\sum\\limits_{i = 1}^{N} \\frac{\\left(y_i - \\Delta x \\cdot n \\cdot f_{X}(x_i|\\vec{\\theta})\\right)^2}{\\Delta x \\cdot n \\cdot f_{X}(x_i|\\vec{\\theta})}$\n",
    "\n",
    "waarbij de onzekerheid $\\sigma_{i}$ wordt vervangen door de poisson onzekerheid ($\\sqrt{n_i}$) van het aantal voorspelde events in bin $i$.\n",
    "\n",
    "##### Deze ga je nu weer minimaliseren t.o.v. de paramteres $\\vec{\\theta}$\n",
    "\n",
    "\n"
   ]
  },
  {
   "cell_type": "code",
   "execution_count": 11,
   "metadata": {},
   "outputs": [
    {
     "ename": "IndentationError",
     "evalue": "expected an indented block after function definition on line 1 (1227536059.py, line 3)",
     "output_type": "error",
     "traceback": [
      "\u001b[0;36m  Input \u001b[0;32mIn [11]\u001b[0;36m\u001b[0m\n\u001b[0;31m    chi2_fun = lambda q: # return chi2\u001b[0m\n\u001b[0m    ^\u001b[0m\n\u001b[0;31mIndentationError\u001b[0m\u001b[0;31m:\u001b[0m expected an indented block after function definition on line 1\n"
     ]
    }
   ],
   "source": [
    "\n",
    "def chi2(q):\n",
    "    # return chi2\n",
    "chi2_fun = lambda q: # return chi2\n",
    "# minimaliseer de chi2 om zo mu en sigma te bepalen"
   ]
  },
  {
   "cell_type": "code",
   "execution_count": 12,
   "metadata": {},
   "outputs": [],
   "source": [
    "# plot histogram met theoretische pdf aan de hand van de parameters die je hebt geschat met de chi2 methode \n",
    "#(en vergelijk met de parameters uit de likelihood methode)"
   ]
  },
  {
   "cell_type": "markdown",
   "metadata": {},
   "source": [
    "### Onzekerheid met de visuele methode"
   ]
  },
  {
   "cell_type": "markdown",
   "metadata": {},
   "source": [
    "####  For the mean"
   ]
  },
  {
   "cell_type": "code",
   "execution_count": 13,
   "metadata": {
    "scrolled": true
   },
   "outputs": [],
   "source": [
    "# onzekerheid op mu (visueel voor chi2 methode)"
   ]
  },
  {
   "cell_type": "markdown",
   "metadata": {},
   "source": [
    "#### For the standard deviation"
   ]
  },
  {
   "cell_type": "code",
   "execution_count": 14,
   "metadata": {},
   "outputs": [],
   "source": [
    "# onzekerheid op sigma"
   ]
  },
  {
   "cell_type": "code",
   "execution_count": 15,
   "metadata": {},
   "outputs": [],
   "source": [
    "# toon visueel hoe de chi2 varieert met je parameters mu en sigma, \n",
    "# waar het minimum zich bevindt en waar het onzekerheidsinterval zich bevindt."
   ]
  },
  {
   "cell_type": "markdown",
   "metadata": {},
   "source": [
    "### Vraag: Hoe hangen je resultaten af van het aantal bins dat je hebt gekozen?"
   ]
  },
  {
   "cell_type": "code",
   "execution_count": null,
   "metadata": {},
   "outputs": [],
   "source": []
  }
 ],
 "metadata": {
  "kernelspec": {
   "display_name": "Python 3 (ipykernel)",
   "language": "python",
   "name": "python3"
  },
  "language_info": {
   "codemirror_mode": {
    "name": "ipython",
    "version": 3
   },
   "file_extension": ".py",
   "mimetype": "text/x-python",
   "name": "python",
   "nbconvert_exporter": "python",
   "pygments_lexer": "ipython3",
   "version": "3.10.2"
  }
 },
 "nbformat": 4,
 "nbformat_minor": 2
}
