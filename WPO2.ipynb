{
 "cells": [
  {
   "cell_type": "markdown",
   "metadata": {},
   "source": [
    "# WPO 2\n",
    "[Oefening 1](#oef1)\n",
    "\n",
    "[Oefening 2](#oef2)\n",
    "***"
   ]
  },
  {
   "cell_type": "code",
   "execution_count": null,
   "metadata": {},
   "outputs": [],
   "source": [
    "import numpy as np # numerical calculations in python\n",
    "from scipy.optimize import fmin, fsolve\n",
    "from scipy.misc import derivative\n",
    "import matplotlib.pyplot as plt # package for plotting\n",
    "from matplotlib import rc\n",
    "rc('text', usetex=True)\n",
    "\n",
    "# allow to show plots inline\n",
    "%matplotlib inline "
   ]
  },
  {
   "cell_type": "markdown",
   "metadata": {},
   "source": [
    "<a id=\"oef1\"></a> \n",
    "## Oefening 1:\n",
    "Gegeven een normaal verdeelde dataset:\n",
    "### $f(x_{i}|\\mu,\\sigma) = \\frac{1}{\\sigma\\sqrt{2\\pi}} e^{-\\frac{\\left(x_{i}-\\mu\\right)^2}{2\\sigma^2}} $\n",
    "Schat de paramters $\\mu$ en $\\sigma$ m.b.v. de maximum likelihood methode. Bepaal de onzekerheden op deze geschatte parameters, zowel grafisch als analytisch."
   ]
  },
  {
   "cell_type": "code",
   "execution_count": null,
   "metadata": {},
   "outputs": [],
   "source": [
    "MU = 1.3\n",
    "SIGMA = 4.5\n",
    "data = np.random.normal(MU,SIGMA,1000)"
   ]
  },
  {
   "cell_type": "code",
   "execution_count": null,
   "metadata": {},
   "outputs": [],
   "source": [
    "fig = plt.figure(figsize=[10,7]) \n",
    "ax = fig.add_subplot(1, 1, 1)\n",
    "ax.hist(data, 20)\n",
    "plt.xlabel('$x_{i}$',fontsize=25);\n",
    "plt.ylabel('yield',fontsize=20);\n",
    "for tick in ax.xaxis.get_major_ticks():\n",
    "    tick.label.set_fontsize(20) \n",
    "for tick in ax.yaxis.get_major_ticks():\n",
    "    tick.label.set_fontsize(20) "
   ]
  },
  {
   "cell_type": "code",
   "execution_count": null,
   "metadata": {},
   "outputs": [],
   "source": [
    "def normalpdf(x,mu,sigma):\n",
    "    # fill normal PDF"
   ]
  },
  {
   "cell_type": "code",
   "execution_count": null,
   "metadata": {},
   "outputs": [],
   "source": [
    "# plot the distribution with the normal pdf\n",
    "_x = np.arange(-15,15,0.1)\n",
    "_y = normalpdf(_x,MU,SIGMA)\n",
    "fig2 = plt.figure(figsize=[10,7]) \n",
    "ax2 = fig2.add_subplot(1, 1, 1)\n",
    "ax2.hist(data, 20,density=True, label=\"normalized histogram\") # density=True will normalize the histogram to 1!\n",
    "ax2.plot(_x,_y, label=\"PDF $f(x_{i}|\\mu=%.1f, \\sigma=%.1f)$\"%(MU,SIGMA))\n",
    "plt.xlabel('$x_{i}$',fontsize=25);\n",
    "plt.ylabel('$f(x_{i} | \\mu, \\sigma)$',fontsize=20);\n",
    "for tick in ax2.xaxis.get_major_ticks():\n",
    "    tick.label.set_fontsize(20) \n",
    "for tick in ax2.yaxis.get_major_ticks():\n",
    "    tick.label.set_fontsize(20)\n",
    "ax2.legend(fontsize=16, loc='upper left')"
   ]
  },
  {
   "cell_type": "code",
   "execution_count": null,
   "metadata": {},
   "outputs": [],
   "source": [
    "def LogL(q):\n",
    "    # return -logL\n",
    "LogL_fun = lambda q: ## FILL\n",
    "# minimize the -LogL"
   ]
  },
  {
   "cell_type": "markdown",
   "metadata": {},
   "source": [
    "### uncertainty using the visual method"
   ]
  },
  {
   "cell_type": "markdown",
   "metadata": {},
   "source": [
    "####  For the mean"
   ]
  },
  {
   "cell_type": "code",
   "execution_count": null,
   "metadata": {
    "scrolled": true
   },
   "outputs": [],
   "source": [
    "## find the unc on the mean"
   ]
  },
  {
   "cell_type": "markdown",
   "metadata": {},
   "source": [
    "#### For the standard deviation"
   ]
  },
  {
   "cell_type": "code",
   "execution_count": null,
   "metadata": {},
   "outputs": [],
   "source": [
    "# find the unc on the std"
   ]
  },
  {
   "cell_type": "markdown",
   "metadata": {},
   "source": [
    "#### Plotting the results"
   ]
  },
  {
   "cell_type": "code",
   "execution_count": null,
   "metadata": {
    "scrolled": true
   },
   "outputs": [],
   "source": [
    "#Plot the results"
   ]
  },
  {
   "cell_type": "markdown",
   "metadata": {},
   "source": [
    "### Uncertainty with the analytical method"
   ]
  },
  {
   "cell_type": "code",
   "execution_count": null,
   "metadata": {},
   "outputs": [],
   "source": [
    "def partial_second_derivative(func, var=0, point=[]):\n",
    "    args = point[:]\n",
    "    def wraps(x):\n",
    "        args[var] = x\n",
    "        return func(args)\n",
    "    return derivative(wraps, point[var], dx = 1e-6, n=2)\n",
    "\n",
    "## Use partial derivatives to find the analytical unc"
   ]
  },
  {
   "cell_type": "markdown",
   "metadata": {},
   "source": [
    "<a id=\"oef2\"></a> \n",
    "## Oefening 2:\n",
    "Gegeven dezelfde normaal verdeelde dataset als in de vorige oefening:\n",
    "### $f(x_{i}|\\mu,\\sigma) = \\frac{1}{\\sigma\\sqrt{2\\pi}} e^{-\\frac{\\left(x_{i}-\\mu\\right)^2}{2\\sigma^2}} $\n",
    "Schat de paramters $\\mu$ en $\\sigma$ m.b.v. de kleinste kwadraten methode. Bepaal de onzekerheden (grafisch) op deze geschatte parameters"
   ]
  },
  {
   "cell_type": "code",
   "execution_count": null,
   "metadata": {},
   "outputs": [],
   "source": [
    "nbins = 20\n",
    "bincontent, binedges, patches = plt.hist(data, nbins);\n",
    "binsize = np.abs(binedges[1] - binedges[0])\n",
    "bincenters = np.asarray([i-binsize/2. for i in binedges])\n",
    "bincenters = bincenters[1:] # the first binedge is the left edge, so it should not be counted here"
   ]
  },
  {
   "cell_type": "code",
   "execution_count": null,
   "metadata": {},
   "outputs": [],
   "source": [
    "def chi2(q):\n",
    "    # return chi2\n",
    "chi2_fun = lambda q: # return chi2\n"
   ]
  },
  {
   "cell_type": "code",
   "execution_count": null,
   "metadata": {},
   "outputs": [],
   "source": [
    "# plot results"
   ]
  },
  {
   "cell_type": "markdown",
   "metadata": {},
   "source": [
    "### uncertainty using the visual method"
   ]
  },
  {
   "cell_type": "markdown",
   "metadata": {},
   "source": [
    "####  For the mean"
   ]
  },
  {
   "cell_type": "code",
   "execution_count": null,
   "metadata": {
    "scrolled": true
   },
   "outputs": [],
   "source": [
    "# unc on mean"
   ]
  },
  {
   "cell_type": "markdown",
   "metadata": {},
   "source": [
    "#### For the standard deviation"
   ]
  },
  {
   "cell_type": "code",
   "execution_count": null,
   "metadata": {},
   "outputs": [],
   "source": [
    "# unc on std"
   ]
  },
  {
   "cell_type": "code",
   "execution_count": null,
   "metadata": {},
   "outputs": [],
   "source": [
    "# plot results"
   ]
  }
 ],
 "metadata": {
  "kernelspec": {
   "display_name": "Python 2",
   "language": "python",
   "name": "python2"
  },
  "language_info": {
   "codemirror_mode": {
    "name": "ipython",
    "version": 2
   },
   "file_extension": ".py",
   "mimetype": "text/x-python",
   "name": "python",
   "nbconvert_exporter": "python",
   "pygments_lexer": "ipython2",
   "version": "2.7.16"
  }
 },
 "nbformat": 4,
 "nbformat_minor": 2
}
