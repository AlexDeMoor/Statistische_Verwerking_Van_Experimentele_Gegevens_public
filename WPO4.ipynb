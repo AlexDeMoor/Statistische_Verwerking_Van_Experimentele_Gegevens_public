{
 "cells": [
  {
   "cell_type": "markdown",
   "metadata": {},
   "source": [
    "# WPO 4\n",
    "[Oefening 1](#oef1)\n",
    "\n",
    "[Oefening 2](#oef2)\n",
    "\n",
    "[Oefening 3](#oef3)\n",
    "\n",
    "***"
   ]
  },
  {
   "cell_type": "code",
   "execution_count": null,
   "metadata": {},
   "outputs": [],
   "source": [
    "import numpy as np # numerical calculations in python\n",
    "from scipy import stats\n",
    "from scipy.optimize import fmin, fsolve\n",
    "from scipy.misc import derivative\n",
    "import matplotlib.pyplot as plt # package for plotting\n",
    "from matplotlib import rc\n",
    "rc('text', usetex=True)\n",
    "\n",
    "# allow to show plots inline\n",
    "%matplotlib inline "
   ]
  },
  {
   "cell_type": "markdown",
   "metadata": {},
   "source": [
    "# Introduction\n",
    "\n",
    "- Definieer een nulhypothese $H_0$, en een alternatieve hypothese $H_1$\n",
    "- definieer naargelang de hypothesetest een teststatistiek T, dewelke een gekende verdeling $f_{X}(T|H_{0})$ volgt onder de nulhypothese en een verdeling $f_{X}(T|H_{1})$ onder de alternatieve hypothese. In de cursus staat voor een aantal specifieke gevallen welke teststatistiek je kan gebruiken.\n",
    "- gegeven een significantieniveau $\\alpha$ (kans om $H_0$ te verwerpen als $H_0$ toch waar was), bepaal het aanvaardingsgebied aan dehand van de critieke waarden (kwantielen) onder de nulhyopthese: $[T_{\\alpha(/2)},T_{1-\\alpha(/2)}]$. Dit interval kan varieren naargelang het om een eenzijdige of tweezijdige test gaat.\n",
    "- Indien de gemeten waarde van je teststatistiek $\\hat{T}$ in het aanvaardingsgebied ligt, dan aanvaard je de nulhypothese met een significantieniveau $\\alpha$. Zo niet, dan verwerp je $H_0$ ten voordele van $H_1$.\n",
    "\n",
    "<img src=\"./figure-1-curves.jpg\" width=\"800\">\n",
    "<img src=\"./EenzijdigVsTweezijdig.jpeg\" width=\"800\">"
   ]
  },
  {
   "cell_type": "markdown",
   "metadata": {},
   "source": [
    "<a id=\"oef1\"></a> \n",
    "## Oefening 1:\n",
    "Men wenst het benzineverbruik van twee verschillende automerken te vergelijken. Men laat 10 auto’s van merk A en 16 auto’s van merk B met een constante snelheid van 90 km/u over eenzelfde stuk autoweg van 100 km rijden. Men vindt voor het gemiddelde verbruik:\n",
    "\n",
    "| Merk | Gemiddeld Verbruik | Standaardafwijking (steekproef) |\n",
    "|---|---|---|\n",
    "| merk A | 6.5 l/100km | 0.21 l/100km | \n",
    "| merk B | 6.0 l/100km | 0.22 l/100km |\n",
    "\n",
    "Is het verschil in varianties significant op het niveau van 5%, 2%? Zo niet, test dan of het verschil in brandstofverbruik significant is op het 5%, 2%, 1%-niveau.\n",
    "Tip: je kan de kwantielen [rechtstreeks via python uitrekenen](https://docs.scipy.org/doc/scipy-0.19.1/reference/tutorial/stats.html) met het ```stats``` pakket van ```scipy``` (ik heb deze bovenaan mee ingeladen). Dit doe je via de 'ppf' (Percent Point Function), dewelke de inverse is van de cumulatieve distributie functie (CDF).\n",
    "\n",
    "Voorbeeld: N(0,1), α = 5% (tweezijdig)\n",
    "\n",
    "``` stats.norm(0,1).ppf(0.025) ```\n",
    "\n",
    "``` stats.norm(0,1).ppf(0.975) ```\n",
    "\n",
    "Je kan de verschillende kansverdelingsfuncties vinden via [deze link](https://docs.scipy.org/doc/scipy/reference/stats.html)."
   ]
  },
  {
   "cell_type": "markdown",
   "metadata": {},
   "source": [
    "### Testen of twee varianties al dan niet gelijk zijn:"
   ]
  },
  {
   "cell_type": "markdown",
   "metadata": {},
   "source": [
    "#### $\\alpha$ = 5%\n",
    "vraag: Gaat het hier om een eenzijdige of een tweezijdige toets?"
   ]
  },
  {
   "cell_type": "code",
   "execution_count": null,
   "metadata": {},
   "outputs": [],
   "source": []
  },
  {
   "cell_type": "markdown",
   "metadata": {},
   "source": [
    "#### $\\alpha$ = 2%\n",
    "vraag: geeft $\\alpha$ = 2% een groter of een kleiner aanvaardingsgebied? Kan je dan al op voorhand iets zeggen over de conclusie van deze hypothesetest, als je de uitkomst voor $\\alpha$ = 5% al kent?"
   ]
  },
  {
   "cell_type": "code",
   "execution_count": null,
   "metadata": {},
   "outputs": [],
   "source": []
  },
  {
   "cell_type": "markdown",
   "metadata": {},
   "source": [
    "### Testen of twee gemiddelden al dan niet gelijk zijn:\n"
   ]
  },
  {
   "cell_type": "code",
   "execution_count": null,
   "metadata": {},
   "outputs": [],
   "source": []
  },
  {
   "cell_type": "markdown",
   "metadata": {},
   "source": [
    "#### $\\alpha$ = 5%"
   ]
  },
  {
   "cell_type": "code",
   "execution_count": null,
   "metadata": {},
   "outputs": [],
   "source": []
  },
  {
   "cell_type": "markdown",
   "metadata": {},
   "source": [
    "#### $\\alpha$ = 2%"
   ]
  },
  {
   "cell_type": "code",
   "execution_count": null,
   "metadata": {},
   "outputs": [],
   "source": []
  },
  {
   "cell_type": "markdown",
   "metadata": {},
   "source": [
    "#### $\\alpha$ = 1%"
   ]
  },
  {
   "cell_type": "code",
   "execution_count": null,
   "metadata": {},
   "outputs": [],
   "source": []
  },
  {
   "cell_type": "markdown",
   "metadata": {},
   "source": [
    "<a id=\"oef2\"></a> \n",
    "## Oefening 2:\n",
    "Met het beste automerk worden er nu twee verschillende benzinemerken getest. Daarvoor laat men 10 wagens rijden met elk 8 liter brandstof van beide benzinemerken. Laat $X_i$ het aantal afgelegde kilometers zijn, afgelegd door wagen $i$ bij gebruik van brandstofmerk X en $Y_i$ het aantal kilometers afgelegd met brandstof Y. Men stelt zich nu de vraag opdat **brandstof Y beter is dan branstof X**. Men bekomt volgende resultaten:\n",
    "\n",
    "\n",
    "| wagen $i$ | 1 | 2 | 3 | 4 | 5 | 6 | 7 | 8 | 9 | 10 |\n",
    "|---|---|---|---|---|---|---|---|---|---|---|\n",
    "| $X_{i}$ [km] | 99 | 110 | 105 | 101 | 90 | 92 | 104 | 100 | 101 | 100 | \n",
    "| $Y_{i}$ [km] | 100 | 110 | 111 | 110 | 91 | 97 | 106 | 100 | 104 | 96 |\n",
    "\n",
    "Is de brandstof Y significantbeter dan de brandstof X op het 5%, 1%-niveau? "
   ]
  },
  {
   "cell_type": "code",
   "execution_count": null,
   "metadata": {},
   "outputs": [],
   "source": [
    "Xi = np.asarray([99 , 110 , 105 , 101 , 90 , 92 , 104 , 100 , 101 , 100])\n",
    "Yi = np.asarray([100 , 110 , 111 , 110 , 91 , 97 , 106 , 100 , 104 , 96])"
   ]
  },
  {
   "cell_type": "markdown",
   "metadata": {},
   "source": [
    "### Toetsen of een gemiddelde een bepaalde verwachtingswaarde heeft, of deze groter/kleiner/verschillend is:\n",
    "\n",
    "Let op! er wordt hier niet gevraagd of het gemiddelde verbruik met brandstof $X$ verschillend is aan dat van brandstofmerk $Y$! De vraag is of **merk Y significant beter is dan merk X**. "
   ]
  },
  {
   "cell_type": "code",
   "execution_count": null,
   "metadata": {},
   "outputs": [],
   "source": []
  },
  {
   "cell_type": "markdown",
   "metadata": {},
   "source": [
    "#### $\\alpha$ = 5%"
   ]
  },
  {
   "cell_type": "code",
   "execution_count": null,
   "metadata": {},
   "outputs": [],
   "source": []
  },
  {
   "cell_type": "markdown",
   "metadata": {},
   "source": [
    "#### $\\alpha$ = 1% (voor een eenzijdige toets)"
   ]
  },
  {
   "cell_type": "code",
   "execution_count": null,
   "metadata": {},
   "outputs": [],
   "source": []
  },
  {
   "cell_type": "markdown",
   "metadata": {},
   "source": [
    "<a id=\"oef3\"></a> \n",
    "## Oefening 3:\n",
    "Veronderstel een nulhypothese, $H_0$ die normaal verdeeld is met $\\sigma_0 = 0.21$. Na twintig metingen bekomen we een standaardafwijking van $s = 0.28$ rond een gemiddelde waarde van 2.3, is de nulhypothese aanvaard met $\\alpha = 0.05$? Met $\\alpha = 0.01$?\n",
    "\n",
    "- $H_{0}$: $s = \\sigma_{0} = 0.21$\n",
    "- $H_{1}$: $s \\neq 0.21$"
   ]
  },
  {
   "cell_type": "markdown",
   "metadata": {},
   "source": [
    "### Toetsen of een standaardafwijking een bepaalde verwachtingswaarde heeft"
   ]
  },
  {
   "cell_type": "code",
   "execution_count": null,
   "metadata": {},
   "outputs": [],
   "source": []
  },
  {
   "cell_type": "markdown",
   "metadata": {},
   "source": [
    "#### $\\alpha$ = 5% (voor een **tweezijdige** toets)"
   ]
  },
  {
   "cell_type": "code",
   "execution_count": null,
   "metadata": {},
   "outputs": [],
   "source": []
  },
  {
   "cell_type": "markdown",
   "metadata": {},
   "source": [
    "#### $\\alpha$ = 1% (voor een **tweezijdige** toets)"
   ]
  },
  {
   "cell_type": "code",
   "execution_count": null,
   "metadata": {},
   "outputs": [],
   "source": []
  }
 ],
 "metadata": {
  "kernelspec": {
   "display_name": "Python 2",
   "language": "python",
   "name": "python2"
  },
  "language_info": {
   "codemirror_mode": {
    "name": "ipython",
    "version": 2
   },
   "file_extension": ".py",
   "mimetype": "text/x-python",
   "name": "python",
   "nbconvert_exporter": "python",
   "pygments_lexer": "ipython2",
   "version": "2.7.16"
  }
 },
 "nbformat": 4,
 "nbformat_minor": 2
}
