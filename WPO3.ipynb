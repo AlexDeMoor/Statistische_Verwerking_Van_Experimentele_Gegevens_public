{
 "cells": [
  {
   "cell_type": "markdown",
   "metadata": {
    "deletable": true,
    "editable": true
   },
   "source": [
    "# WPO 3\n",
    "[Oefening 2](#oef2)\n",
    "\n",
    "[Oefening 4](#oef4)\n",
    "***"
   ]
  },
  {
   "cell_type": "code",
   "execution_count": null,
   "metadata": {
    "collapsed": true,
    "deletable": true,
    "editable": true
   },
   "outputs": [],
   "source": [
    "import numpy as np # numerical calculations in python\n",
    "from scipy.optimize import fmin, fsolve\n",
    "from scipy.misc import derivative\n",
    "import matplotlib.pyplot as plt # package for plotting\n",
    "from matplotlib import rc\n",
    "rc('text', usetex=True)\n",
    "\n",
    "# allow to show plots inline\n",
    "%matplotlib inline "
   ]
  },
  {
   "cell_type": "markdown",
   "metadata": {
    "deletable": true,
    "editable": true
   },
   "source": [
    "<a id=\"oef2\"></a> \n",
    "## Oefening 2:\n",
    "Beschouw een experimentele opstelling waarbij je de zwaartekrachtversnelling meet aan de hand van een balletje dat losgelaten wordt door een elektromagneet. Je meet de tijd t die het balletje nodig heeft om een afstand $d = \\frac{1}{2}gt^2$ te overbruggen. Je bekomt volgende resultaten, met een onzekerheid van 0.01 s.\n",
    "\n",
    "| tijd (s) | 0.16 | 0.40 | 0.58 | 0.72 |0.97 |\n",
    "|---|---|---|---|---|---|\n",
    "| afstand (m) | 0.20 | 1.00 | 2.00 | 3.00 |5.00 |\n",
    "\n",
    "Schat de zwaartekrachtversnelling met onzekerheid, m.b.v. de kleinste kwadraten methode, waarbij je veronderstelt dat\n",
    "<ol>\n",
    "  <li>de tijden zijn zoals hierboven.</li>\n",
    "  <li>het magneetveld een onbekende maar vaste tijd nodig heeft om tot nul te zakken en het balletje los te laten.</li>\n",
    "</ol>"
   ]
  },
  {
   "cell_type": "markdown",
   "metadata": {
    "deletable": true,
    "editable": true
   },
   "source": [
    "### Deel 1: de tijden zijn zoals hierboven\n"
   ]
  },
  {
   "cell_type": "code",
   "execution_count": null,
   "metadata": {
    "collapsed": false,
    "deletable": true,
    "editable": true
   },
   "outputs": [],
   "source": [
    "tijd = np.asarray([0.16, 0.40, 0.58, 0.72, 0.97])\n",
    "afstand = np.asarray([0.20,1.00,2.00,3.00,5.00])\n",
    "dt = [0.01]*len(tijd)"
   ]
  },
  {
   "cell_type": "code",
   "execution_count": null,
   "metadata": {
    "collapsed": false,
    "deletable": true,
    "editable": true
   },
   "outputs": [],
   "source": [
    "def time_func_1(x,g):\n",
    "    # tijd in functie van de positie met g als parameter\n",
    "\n",
    "chi2_fun_1 = lambda q: # fill\n",
    "# minimaliseer de chi2 en bepaal g"
   ]
  },
  {
   "cell_type": "markdown",
   "metadata": {
    "deletable": true,
    "editable": true
   },
   "source": [
    "#### Onzekerheid op g?"
   ]
  },
  {
   "cell_type": "markdown",
   "metadata": {
    "deletable": true,
    "editable": true
   },
   "source": [
    "### Deel 2: het magneetveld een onbekende maar vaste tijd nodig heeft om tot nul te zakken en het balletje los te laten."
   ]
  },
  {
   "cell_type": "code",
   "execution_count": null,
   "metadata": {
    "collapsed": true,
    "deletable": true,
    "editable": true
   },
   "outputs": [],
   "source": [
    "def time_func_2(x,g,T):\n",
    "    # hoe ziet de functie eruit al je nog een extra onbekende tijd T nodig hebt om het balletje te laten vallen?\n",
    "\n",
    "chi2_fun_2 = lambda q: # fill\n",
    "# minimaliseer de chi2 en bepaal g en T"
   ]
  },
  {
   "cell_type": "code",
   "execution_count": null,
   "metadata": {
    "collapsed": true,
    "deletable": true,
    "editable": true
   },
   "outputs": [],
   "source": [
    "# Plot de twee fits samen met de data"
   ]
  },
  {
   "cell_type": "markdown",
   "metadata": {
    "deletable": true,
    "editable": true
   },
   "source": [
    "### conclusie: Wat leer je nu uit je twee fits? Welke komt het beste overeen met de data (visueel)? Wat leert de waarde van T ons?"
   ]
  },
  {
   "cell_type": "markdown",
   "metadata": {
    "deletable": true,
    "editable": true
   },
   "source": [
    "### Bepaal nu nog de onzekerheden op g en T voor het tweede geval"
   ]
  },
  {
   "cell_type": "code",
   "execution_count": null,
   "metadata": {
    "collapsed": true,
    "deletable": true,
    "editable": true
   },
   "outputs": [],
   "source": [
    "# onzekerheid op g en T"
   ]
  },
  {
   "cell_type": "raw",
   "metadata": {
    "deletable": true,
    "editable": true
   },
   "source": []
  },
  {
   "cell_type": "code",
   "execution_count": null,
   "metadata": {
    "collapsed": true,
    "deletable": true,
    "editable": true
   },
   "outputs": [],
   "source": [
    "# toon visueel hoe de chi2 varieert met je parameters mu en sigma, \n",
    "# waar het minimum zich bevindt en waar het onzekerheidsinterval zich bevindt."
   ]
  },
  {
   "cell_type": "markdown",
   "metadata": {
    "deletable": true,
    "editable": true
   },
   "source": [
    "<a id=\"oef4\"></a> \n",
    "## Oefening 4:\n",
    "Gegeven onderstaande dataset metingen. De onderliggende kansverdelingsfunctie bestaat uit een <font color='red'> exponentiele achtergrond </font> en een <font color='blue'> gaussisch verdeelde piek </font> die de massa van een deeltje vertegenwoordigt,\n",
    "\n",
    "### $f_{X}(x|m,f) = \\color{red}{ 0.01 \\cdot e^{-0.01x} \\cdot (1-f)} + \\color{blue}{\\frac{e^{-\\frac{1}{800}(x-m)^{2}} \\cdot f}{20\\sqrt{2\\pi}}}$\n",
    "\n",
    "Bepaal met behulp van de kleinste kwadarten methode de massa $m$ van het deeltje, alsook de verhouding $f = \\frac{N_{sig}}{N_{sig} + N_{bkg}}$ (dus de fractie signaal events t.o.v. signaal+achtergrond). Bepaal ook de onzekerheden aan de hand van de grafische methode."
   ]
  },
  {
   "cell_type": "code",
   "execution_count": null,
   "metadata": {
    "collapsed": true,
    "deletable": true,
    "editable": true
   },
   "outputs": [],
   "source": [
    "mass = 172.5 # [GeV\\c^2]\n",
    "resolution_mass = 20\n",
    "Signaal = np.random.normal(mass,resolution_mass,1000)\n",
    "Achtergrond = np.random.exponential(100,10000)\n",
    "AlleMetingen = np.concatenate((Achtergrond,Signaal))\n",
    "\n",
    "fig = plt.figure(figsize=[10,7]) \n",
    "ax = fig.add_subplot(1, 1, 1)\n",
    "ax.hist(AlleMetingen, 50,histtype=\"step\", linewidth=5, color=\"black\",label=\"Bkg + Sig\")\n",
    "ax.hist([Achtergrond,Signaal], 50,histtype=\"barstacked\", linewidth=2,stacked=True,color=[\"red\",\"blue\"],alpha=0.5,label=[\"Achtergrond\",\"Signaal\"])\n",
    "plt.xlabel('invariante massa [GeV]',fontsize=25);\n",
    "plt.ylabel('yield',fontsize=25);\n",
    "for tick in ax.xaxis.get_major_ticks():\n",
    "    tick.label.set_fontsize(20) \n",
    "for tick in ax.yaxis.get_major_ticks():\n",
    "    tick.label.set_fontsize(20) \n",
    "plt.legend(loc=\"best\",fontsize=20);"
   ]
  },
  {
   "cell_type": "markdown",
   "metadata": {
    "deletable": true,
    "editable": true
   },
   "source": [
    "#### Bijvraag 1: Zoek eens op met welk elementair deeltje de massa van ongeveer $172.5 \\, GeV/c^2$ overeen komt?"
   ]
  },
  {
   "cell_type": "markdown",
   "metadata": {
    "deletable": true,
    "editable": true
   },
   "source": [
    "### Onderstaande afbeelding komt uit een publicatie van de meting van de massa van het Higgs boson met het CMS experiment. De massa van dit deeltje werd reeds heel nauwkeurig gemeten en ligt rond de $125 \\, GeV/c^2$, zoals je kan zien op de afbeelding. Deze analyze zoekt naar het verval van een Higgs boson in twee fotonen (lichtdeeltjes), en de grafiek toont je de \"invariante massa\" van die twee fotonen. Uiteraard zijn er ook andere processes die twee fotonen kunnen opleveren, maar in dat geval ligt de massa niet rond de $125 \\, GeV/c^2$ (exponentieel dalende achtergrond)\n",
    "##### (je ziet dat we soms de factor 'c' laten vallen (we zetten c gelijk aan 1) en dus worden ook massa's uitgedrukt in GeV --> Natural units)\n",
    "<img src=\"./HIG-19-004-pas.png\" width=\"500\">"
   ]
  },
  {
   "cell_type": "markdown",
   "metadata": {
    "deletable": true,
    "editable": true
   },
   "source": [
    "### bepaal nu m en f met de kleinste kwadraten methode, alsook hun onzekerheden\n",
    "tip: Je zal je data weer in een histogram moeten steken. Je kansverdelingsfunctie staat in de opgave. Voor de rest is deze opgave gelijkaardig aan oefening twee van de tweede WPO sessie!\n",
    "\n",
    "tip2: de onzekerheid (bijvoorbeeld op de massa m) via de visuele methode voor kleinste kwadraten schatter voldoet aan:\n",
    "\n",
    "$\\chi^2(m,\\hat{f_{LS}}) - \\chi^2(\\hat{m_{LS}},\\hat{f_{LS}}) -s^2 = 0$,\n",
    "\n",
    "met $\\hat{m_{LS}},\\hat{f_{LS}}$ je kleinste kwadraten schatters voor m en f en waarbij s het aantal standaardafwijkingen is. Je zoekt met andere woorden naar de punten waar de $\\Delta \\chi^{2}(m,\\hat{f}) = \\chi^2(m,\\hat{f_{LS}}) - \\chi^2(\\hat{m_{LS}},\\hat{f_{LS}})$ = 1 of 4 of 9 (voor 1$\\sigma$, 2$\\sigma$ en 3$\\sigma$ respectievelijk)"
   ]
  },
  {
   "cell_type": "code",
   "execution_count": null,
   "metadata": {
    "collapsed": true,
    "deletable": true,
    "editable": true
   },
   "outputs": [],
   "source": []
  }
 ],
 "metadata": {
  "kernelspec": {
   "display_name": "Python 2",
   "language": "python",
   "name": "python2"
  },
  "language_info": {
   "codemirror_mode": {
    "name": "ipython",
    "version": 2
   },
   "file_extension": ".py",
   "mimetype": "text/x-python",
   "name": "python",
   "nbconvert_exporter": "python",
   "pygments_lexer": "ipython2",
   "version": "2.7.18"
  }
 },
 "nbformat": 4,
 "nbformat_minor": 2
}
