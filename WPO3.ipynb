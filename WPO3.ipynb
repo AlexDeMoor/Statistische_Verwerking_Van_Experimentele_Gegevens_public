{
 "cells": [
  {
   "cell_type": "markdown",
   "metadata": {},
   "source": [
    "# WPO 3\n",
    "[Oefening 2](#oef2)\n",
    "\n",
    "[Oefening 3](#oef3)\n",
    "\n",
    "[Oefening 4](#oef4)\n",
    "***"
   ]
  },
  {
   "cell_type": "code",
   "execution_count": null,
   "metadata": {},
   "outputs": [],
   "source": [
    "import numpy as np # numerical calculations in python\n",
    "from scipy.optimize import fmin, fsolve\n",
    "from scipy.misc import derivative\n",
    "import matplotlib.pyplot as plt # package for plotting\n",
    "from matplotlib import rc\n",
    "rc('text', usetex=True)\n",
    "\n",
    "# allow to show plots inline\n",
    "%matplotlib inline "
   ]
  },
  {
   "cell_type": "markdown",
   "metadata": {},
   "source": [
    "<a id=\"oef2\"></a> \n",
    "## Oefening 2:\n",
    "Beschouw een experimentele opstelling waarbij je de zwaartekrachtversnelling meet aan de hand van een balletje dat losgelaten wordt door een elektromagneet. Je meet de tijd t die het balletje nodig heeft om een afstand $d = \\frac{1}{2}gt^2$ te overbruggen. Je bekomt volgende resultaten, met een onzekerheid van 0.01 s.\n",
    "\n",
    "| tijd (s) | 0.16 | 0.40 | 0.58 | 0.72 |0.97 |\n",
    "|---|---|---|---|---|---|\n",
    "| afstand (m) | 0.20 | 1.00 | 2.00 | 3.00 |5.00 |\n",
    "\n",
    "Schat de zwaartekrachtversnelling met onzekerheid, m.b.v. de kleinste kwadraten methode, waarbij je veronderstelt dat\n",
    "<ol>\n",
    "  <li>de tijden zijn zoals hierboven.</li>\n",
    "  <li>het magneetveld een onbekende maar vaste tijd nodig heeft om tot nul te zakken en het balletje los te laten.</li>\n",
    "</ol>"
   ]
  },
  {
   "cell_type": "markdown",
   "metadata": {},
   "source": [
    "### Deel 1: de tijden zijn zoals hierboven\n"
   ]
  },
  {
   "cell_type": "code",
   "execution_count": null,
   "metadata": {},
   "outputs": [],
   "source": [
    "tijd = np.asarray([0.16, 0.40, 0.58, 0.72, 0.97])\n",
    "afstand = np.asarray([0.20,1.00,2.00,3.00,5.00])\n",
    "dt = [0.01]*len(tijd)"
   ]
  },
  {
   "cell_type": "code",
   "execution_count": null,
   "metadata": {},
   "outputs": [],
   "source": [
    "def time_func_1(x,g):\n",
    "    #return tijd in functie van positie\n",
    "\n",
    "chi2_fun_1 = lambda q: # tijd in functie van positie\n",
    "# minimaliseer de chi2"
   ]
  },
  {
   "cell_type": "code",
   "execution_count": null,
   "metadata": {},
   "outputs": [],
   "source": [
    "# plot meetpunten (t in functie van x) met de gefitte functie"
   ]
  },
  {
   "cell_type": "markdown",
   "metadata": {},
   "source": [
    "#### Onzekerheid op g?"
   ]
  },
  {
   "cell_type": "code",
   "execution_count": null,
   "metadata": {},
   "outputs": [],
   "source": [
    "# onzekerheid op g via de visuele methode"
   ]
  },
  {
   "cell_type": "markdown",
   "metadata": {},
   "source": [
    "### Deel 2: het magneetveld een onbekende maar vaste tijd nodig heeft om tot nul te zakken en het balletje los te laten."
   ]
  },
  {
   "cell_type": "code",
   "execution_count": null,
   "metadata": {},
   "outputs": [],
   "source": [
    "def time_func_2(x,g,T):\n",
    "    # hoe ziet de functie eruit al je nog een extra onbekende tijd T nodig hebt om het balletje te laten vallen?\n",
    "\n",
    "chi2_fun_2 = lambda q: # fill\n",
    "# minimaliseer de chi2 en bepaal g en T"
   ]
  },
  {
   "cell_type": "code",
   "execution_count": null,
   "metadata": {},
   "outputs": [],
   "source": [
    "# Plot de twee fits samen met de data"
   ]
  },
  {
   "cell_type": "markdown",
   "metadata": {},
   "source": [
    "### conclusie: Wat leer je nu uit je twee fits? Welke komt het beste overeen met de data (visueel)? Wat leert de waarde van T ons?"
   ]
  },
  {
   "cell_type": "markdown",
   "metadata": {},
   "source": [
    "### Bepaal nu nog de onzekerheden op g en T voor het tweede geval"
   ]
  },
  {
   "cell_type": "code",
   "execution_count": null,
   "metadata": {},
   "outputs": [],
   "source": [
    "# onzekerheid op g en T"
   ]
  },
  {
   "cell_type": "code",
   "execution_count": null,
   "metadata": {},
   "outputs": [],
   "source": [
    "# toon visueel hoe de chi2 varieert met je parameters mu en sigma, \n",
    "# waar het minimum zich bevindt en waar het onzekerheidsinterval zich bevindt."
   ]
  },
  {
   "cell_type": "markdown",
   "metadata": {},
   "source": [
    "<a id=\"oef4\"></a> \n",
    "## Oefening 4:\n",
    "Gegeven onderstaande dataset metingen. De onderliggende pdf bestaat uit een <font color='red'> exponentiele achtergrond </font> en een <font color='blue'> gaussisch verdeelde piek </font> de massa van een deeltje vertegenwoordigt,\n",
    "\n",
    "### $f_{X}(x|m,f) = \\color{red}{ 0.01 \\cdot e^{-0.01x} \\cdot (1-f)} + \\color{blue}{\\frac{e^{-\\frac{1}{800}(x-m)^{2}} \\cdot f}{20\\sqrt{2\\pi}}}$\n",
    "\n",
    "Bepaal met behulp van de kleinste kwadarten methode de massa $m$ van het deeltje, alsook de verhouding $f = \\frac{N_{sig}}{N_{sig} + N_{bkg}}$. Bepaal ook de onzekerheden aan de hand van de grafische methode."
   ]
  },
  {
   "cell_type": "code",
   "execution_count": null,
   "metadata": {},
   "outputs": [],
   "source": [
    "mass = 172.5 # top quark\n",
    "resolution_mass = 20\n",
    "Signaal = np.random.normal(mass,resolution_mass,1000)\n",
    "Achtergrond = np.random.exponential(100,10000)\n",
    "AlleMetingen = np.concatenate((Achtergrond,Signaal))\n",
    "\n",
    "fig = plt.figure(figsize=[10,7]) \n",
    "ax = fig.add_subplot(1, 1, 1)\n",
    "ax.hist(AlleMetingen, 50,histtype=\"step\", linewidth=5, color=\"black\",label=\"Bkg + Sig\")\n",
    "ax.hist([Achtergrond,Signaal], 50,histtype=\"barstacked\", linewidth=2,stacked=True,color=[\"red\",\"blue\"],alpha=0.5,label=[\"Achtergrond\",\"Signaal\"])\n",
    "plt.xlabel('$m_{inv}$ [GeV]',fontsize=25);\n",
    "plt.ylabel('yield',fontsize=25);\n",
    "for tick in ax.xaxis.get_major_ticks():\n",
    "    tick.label.set_fontsize(20) \n",
    "for tick in ax.yaxis.get_major_ticks():\n",
    "    tick.label.set_fontsize(20) \n",
    "plt.legend(loc=\"best\",fontsize=20);"
   ]
  },
  {
   "cell_type": "markdown",
   "metadata": {},
   "source": [
    "### Onderstaande afbeelding komt uit een publicatie van de meting van de massa van het Higgs boson met het CMS experiment\n",
    "<img src=\"./HIG-19-004-pas.png\" width=\"500\">"
   ]
  },
  {
   "cell_type": "code",
   "execution_count": null,
   "metadata": {},
   "outputs": [],
   "source": [
    "# bepaal nu m en f met de kleinste kwadraten methode, alsook hun onzekerheden"
   ]
  }
 ],
 "metadata": {
  "kernelspec": {
   "display_name": "Python 2",
   "language": "python",
   "name": "python2"
  },
  "language_info": {
   "codemirror_mode": {
    "name": "ipython",
    "version": 2
   },
   "file_extension": ".py",
   "mimetype": "text/x-python",
   "name": "python",
   "nbconvert_exporter": "python",
   "pygments_lexer": "ipython2",
   "version": "2.7.16"
  }
 },
 "nbformat": 4,
 "nbformat_minor": 2
}
