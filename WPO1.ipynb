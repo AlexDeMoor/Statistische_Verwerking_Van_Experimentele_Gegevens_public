{
 "cells": [
  {
   "cell_type": "markdown",
   "metadata": {},
   "source": [
    "# WPO 1\n",
    "[Oefening 3+4](#oef4)\n",
    "***\n"
   ]
  },
  {
   "cell_type": "code",
   "execution_count": 1,
   "metadata": {},
   "outputs": [],
   "source": [
    "import numpy as np # numerical calculations in python\n",
    "from scipy.optimize import fmin, fsolve\n",
    "from scipy.misc import derivative\n",
    "import matplotlib.pyplot as plt # package for plotting\n",
    "from matplotlib import rc\n",
    "rc('text', usetex=True)\n",
    "from sympy import *\n",
    "\n",
    "# allow to show plots inline\n",
    "%matplotlib inline "
   ]
  },
  {
   "cell_type": "markdown",
   "metadata": {},
   "source": [
    "<a id=\"oef4\"></a> \n",
    "## Oefening 3+4:\n",
    "Beschouw de transformaties uit vraag 3:\n",
    "\n",
    " $\n",
    "\\begin{cases}\n",
    "     x = R\\cos(\\theta)\\sin(\\phi)\\\\\n",
    "     y = R\\sin(\\theta)\\sin(\\phi)\\\\\n",
    "     z = R\\cos(\\phi)\n",
    "\\end{cases}\n",
    "$\n",
    "\n",
    "en\n",
    "\n",
    "$ \\epsilon = \\frac{4x^2 + y}{z}$\n",
    "\n",
    "Gegeven een verzameling van N metingen ($R_{i},\\theta_{i},\\phi_{i}$) die gaussisch verdeeld zijn rond de theoretische waarden ($R_{t},\\theta_{t},\\phi_{t}$) zoals hieronder gesimuleerd. Wetende dat de covariantiematrix berekend kan worden door\n",
    "### $\\hat{\\tilde{C}}(\\hat{\\vec{q_{ij}}}) = \\frac{1}{N-1} \\sum_{k=1}^{N} (q_{ik} - \\overline{q}_{i})(q_{jk} - \\overline{q}_{j})$\n",
    "wordt er opnieuw de covariantiematrix $\\tilde{C}(x,y,z)$ en de variantie van $\\epsilon$ gevraagd.\n"
   ]
  },
  {
   "cell_type": "code",
   "execution_count": 2,
   "metadata": {},
   "outputs": [],
   "source": [
    "pi = 3.141592654\n",
    "Ris = np.random.normal(30,3,1000);\n",
    "Tis = np.random.normal(40.*pi/180.,4.*pi/180.,1000);\n",
    "Pis = np.random.normal(50.*pi/180.,5.*pi/180.,1000);"
   ]
  },
  {
   "cell_type": "markdown",
   "metadata": {},
   "source": [
    "### Eerst symbolisch"
   ]
  },
  {
   "cell_type": "code",
   "execution_count": 3,
   "metadata": {},
   "outputs": [],
   "source": [
    "x,y,z,x2,y2,z2,r,t,p,eps, sigmaR, sigmat, sigmap, sigmax, sigmay, sigmaz = symbols(r'x y z x2 y2 z2 r t p eps \\sigma_{R} \\sigma_t \\sigma_p \\sigma_x \\sigma_y \\sigma_z')\n"
   ]
  },
  {
   "cell_type": "code",
   "execution_count": 4,
   "metadata": {},
   "outputs": [],
   "source": [
    "x = r * cos(t) * sin(p);\n",
    "y = r * sin(t) * sin(p);\n",
    "z = r * cos(p);\n",
    "eps = (4*(x2**2) + y2)/(z2)"
   ]
  },
  {
   "cell_type": "code",
   "execution_count": 5,
   "metadata": {},
   "outputs": [],
   "source": [
    "D = Matrix([[diff(x,r), diff(y,r), diff(z,r)],[diff(x,t), diff(y,t), diff(z,t)],[diff(x,p), diff(y,p), diff(z,p)]])\n",
    "Crtp = Matrix([[sigmaR**2,0,0],[0,sigmat**2,0],[0,0,sigmap**2]])"
   ]
  },
  {
   "cell_type": "code",
   "execution_count": 6,
   "metadata": {},
   "outputs": [
    {
     "data": {
      "text/latex": [
       "$\\displaystyle \\left[\\begin{matrix}\\sin{\\left(p \\right)} \\cos{\\left(t \\right)} & \\sin{\\left(p \\right)} \\sin{\\left(t \\right)} & \\cos{\\left(p \\right)}\\\\- r \\sin{\\left(p \\right)} \\sin{\\left(t \\right)} & r \\sin{\\left(p \\right)} \\cos{\\left(t \\right)} & 0\\\\r \\cos{\\left(p \\right)} \\cos{\\left(t \\right)} & r \\sin{\\left(t \\right)} \\cos{\\left(p \\right)} & - r \\sin{\\left(p \\right)}\\end{matrix}\\right]$"
      ],
      "text/plain": [
       "Matrix([\n",
       "[   sin(p)*cos(t),   sin(p)*sin(t),    cos(p)],\n",
       "[-r*sin(p)*sin(t), r*sin(p)*cos(t),         0],\n",
       "[ r*cos(p)*cos(t), r*sin(t)*cos(p), -r*sin(p)]])"
      ]
     },
     "execution_count": 6,
     "metadata": {},
     "output_type": "execute_result"
    }
   ],
   "source": [
    "D"
   ]
  },
  {
   "cell_type": "code",
   "execution_count": 7,
   "metadata": {},
   "outputs": [
    {
     "data": {
      "text/latex": [
       "$\\displaystyle \\left[\\begin{matrix}\\sigma_{R}^{2} & 0 & 0\\\\0 & \\sigma_t^{2} & 0\\\\0 & 0 & \\sigma_p^{2}\\end{matrix}\\right]$"
      ],
      "text/plain": [
       "Matrix([\n",
       "[\\sigma_{R}**2,           0,           0],\n",
       "[            0, \\sigma_t**2,           0],\n",
       "[            0,           0, \\sigma_p**2]])"
      ]
     },
     "execution_count": 7,
     "metadata": {},
     "output_type": "execute_result"
    }
   ],
   "source": [
    "Crtp"
   ]
  },
  {
   "cell_type": "code",
   "execution_count": 8,
   "metadata": {},
   "outputs": [],
   "source": [
    "Cxyz = D.T * Crtp * D"
   ]
  },
  {
   "cell_type": "code",
   "execution_count": 9,
   "metadata": {},
   "outputs": [
    {
     "data": {
      "text/latex": [
       "$\\displaystyle \\left[\\begin{matrix}\\sigma_p^{2} r^{2} \\cos^{2}{\\left(p \\right)} \\cos^{2}{\\left(t \\right)} + \\sigma_t^{2} r^{2} \\sin^{2}{\\left(p \\right)} \\sin^{2}{\\left(t \\right)} + \\sigma_{R}^{2} \\sin^{2}{\\left(p \\right)} \\cos^{2}{\\left(t \\right)} & \\sigma_p^{2} r^{2} \\sin{\\left(t \\right)} \\cos^{2}{\\left(p \\right)} \\cos{\\left(t \\right)} - \\sigma_t^{2} r^{2} \\sin^{2}{\\left(p \\right)} \\sin{\\left(t \\right)} \\cos{\\left(t \\right)} + \\sigma_{R}^{2} \\sin^{2}{\\left(p \\right)} \\sin{\\left(t \\right)} \\cos{\\left(t \\right)} & - \\sigma_p^{2} r^{2} \\sin{\\left(p \\right)} \\cos{\\left(p \\right)} \\cos{\\left(t \\right)} + \\sigma_{R}^{2} \\sin{\\left(p \\right)} \\cos{\\left(p \\right)} \\cos{\\left(t \\right)}\\\\\\sigma_p^{2} r^{2} \\sin{\\left(t \\right)} \\cos^{2}{\\left(p \\right)} \\cos{\\left(t \\right)} - \\sigma_t^{2} r^{2} \\sin^{2}{\\left(p \\right)} \\sin{\\left(t \\right)} \\cos{\\left(t \\right)} + \\sigma_{R}^{2} \\sin^{2}{\\left(p \\right)} \\sin{\\left(t \\right)} \\cos{\\left(t \\right)} & \\sigma_p^{2} r^{2} \\sin^{2}{\\left(t \\right)} \\cos^{2}{\\left(p \\right)} + \\sigma_t^{2} r^{2} \\sin^{2}{\\left(p \\right)} \\cos^{2}{\\left(t \\right)} + \\sigma_{R}^{2} \\sin^{2}{\\left(p \\right)} \\sin^{2}{\\left(t \\right)} & - \\sigma_p^{2} r^{2} \\sin{\\left(p \\right)} \\sin{\\left(t \\right)} \\cos{\\left(p \\right)} + \\sigma_{R}^{2} \\sin{\\left(p \\right)} \\sin{\\left(t \\right)} \\cos{\\left(p \\right)}\\\\- \\sigma_p^{2} r^{2} \\sin{\\left(p \\right)} \\cos{\\left(p \\right)} \\cos{\\left(t \\right)} + \\sigma_{R}^{2} \\sin{\\left(p \\right)} \\cos{\\left(p \\right)} \\cos{\\left(t \\right)} & - \\sigma_p^{2} r^{2} \\sin{\\left(p \\right)} \\sin{\\left(t \\right)} \\cos{\\left(p \\right)} + \\sigma_{R}^{2} \\sin{\\left(p \\right)} \\sin{\\left(t \\right)} \\cos{\\left(p \\right)} & \\sigma_p^{2} r^{2} \\sin^{2}{\\left(p \\right)} + \\sigma_{R}^{2} \\cos^{2}{\\left(p \\right)}\\end{matrix}\\right]$"
      ],
      "text/plain": [
       "Matrix([\n",
       "[            \\sigma_p**2*r**2*cos(p)**2*cos(t)**2 + \\sigma_t**2*r**2*sin(p)**2*sin(t)**2 + \\sigma_{R}**2*sin(p)**2*cos(t)**2, \\sigma_p**2*r**2*sin(t)*cos(p)**2*cos(t) - \\sigma_t**2*r**2*sin(p)**2*sin(t)*cos(t) + \\sigma_{R}**2*sin(p)**2*sin(t)*cos(t), -\\sigma_p**2*r**2*sin(p)*cos(p)*cos(t) + \\sigma_{R}**2*sin(p)*cos(p)*cos(t)],\n",
       "[\\sigma_p**2*r**2*sin(t)*cos(p)**2*cos(t) - \\sigma_t**2*r**2*sin(p)**2*sin(t)*cos(t) + \\sigma_{R}**2*sin(p)**2*sin(t)*cos(t),             \\sigma_p**2*r**2*sin(t)**2*cos(p)**2 + \\sigma_t**2*r**2*sin(p)**2*cos(t)**2 + \\sigma_{R}**2*sin(p)**2*sin(t)**2, -\\sigma_p**2*r**2*sin(p)*sin(t)*cos(p) + \\sigma_{R}**2*sin(p)*sin(t)*cos(p)],\n",
       "[                                                -\\sigma_p**2*r**2*sin(p)*cos(p)*cos(t) + \\sigma_{R}**2*sin(p)*cos(p)*cos(t),                                                 -\\sigma_p**2*r**2*sin(p)*sin(t)*cos(p) + \\sigma_{R}**2*sin(p)*sin(t)*cos(p),                        \\sigma_p**2*r**2*sin(p)**2 + \\sigma_{R}**2*cos(p)**2]])"
      ]
     },
     "execution_count": 9,
     "metadata": {},
     "output_type": "execute_result"
    }
   ],
   "source": [
    "Cxyz"
   ]
  },
  {
   "cell_type": "markdown",
   "metadata": {},
   "source": [
    "### Nu numeriek"
   ]
  },
  {
   "cell_type": "code",
   "execution_count": 10,
   "metadata": {},
   "outputs": [],
   "source": [
    "Crtp_num = [[0,0,0],[0,0,0],[0,0,0]]\n",
    "Alldata = [Ris,Tis,Pis]\n",
    "gemid = [np.mean(Ris),np.mean(Tis),np.mean(Pis)]"
   ]
  },
  {
   "cell_type": "code",
   "execution_count": 11,
   "metadata": {},
   "outputs": [
    {
     "data": {
      "text/plain": [
       "[[9.6062445156669, 0.003303356349491199, 0.0038345991529855875],\n",
       " [0.003303356349491199, 0.005213804084085975, 0.00024184194154928953],\n",
       " [0.0038345991529855875, 0.00024184194154928953, 0.00786881005513992]]"
      ]
     },
     "execution_count": 11,
     "metadata": {},
     "output_type": "execute_result"
    }
   ],
   "source": [
    "for i in range(len(Crtp_num)):\n",
    "    for j in range(len(Crtp_num[i])):\n",
    "        for k in range(len(Ris)):\n",
    "            Crtp_num[i][j] += (Alldata[i][k] - gemid[i])*(Alldata[j][k] - gemid[j])\n",
    "        Crtp_num[i][j] = Crtp_num[i][j]/float(len(Ris)-1)\n",
    "Crtp_num"
   ]
  },
  {
   "cell_type": "code",
   "execution_count": 12,
   "metadata": {},
   "outputs": [
    {
     "data": {
      "text/latex": [
       "$\\displaystyle \\left[\\begin{matrix}0.587 & 0.492 & 0.643\\\\-14.8 & 17.7 & 0\\\\14.8 & 12.4 & -23.1\\end{matrix}\\right]$"
      ],
      "text/plain": [
       "Matrix([\n",
       "[0.587, 0.492, 0.643],\n",
       "[-14.8,  17.7,     0],\n",
       "[ 14.8,  12.4, -23.1]])"
      ]
     },
     "execution_count": 12,
     "metadata": {},
     "output_type": "execute_result"
    }
   ],
   "source": [
    "D_num = D.evalf(subs={r: gemid[0],t: gemid[1], p: gemid[2]})\n",
    "\n",
    "N(D_num,3)"
   ]
  },
  {
   "cell_type": "code",
   "execution_count": 14,
   "metadata": {},
   "outputs": [
    {
     "data": {
      "text/latex": [
       "$\\displaystyle \\left[\\begin{matrix}6.09 & 2.95 & 0.966\\\\2.95 & 5.39 & 0.706\\\\0.966 & 0.706 & 8.05\\end{matrix}\\right]$"
      ],
      "text/plain": [
       "Matrix([\n",
       "[ 6.09,  2.95, 0.966],\n",
       "[ 2.95,  5.39, 0.706],\n",
       "[0.966, 0.706,  8.05]])"
      ]
     },
     "execution_count": 14,
     "metadata": {},
     "output_type": "execute_result"
    }
   ],
   "source": [
    "Cxyz_num = D_num.T *Matrix(Crtp_num) * D_num\n",
    "N(Cxyz_num,3)"
   ]
  },
  {
   "cell_type": "markdown",
   "metadata": {},
   "source": [
    "### correlaticoefficient"
   ]
  },
  {
   "cell_type": "code",
   "execution_count": null,
   "metadata": {},
   "outputs": [],
   "source": []
  }
 ],
 "metadata": {
  "kernelspec": {
   "display_name": "Python 2",
   "language": "python",
   "name": "python2"
  },
  "language_info": {
   "codemirror_mode": {
    "name": "ipython",
    "version": 2
   },
   "file_extension": ".py",
   "mimetype": "text/x-python",
   "name": "python",
   "nbconvert_exporter": "python",
   "pygments_lexer": "ipython2",
   "version": "2.7.16"
  }
 },
 "nbformat": 4,
 "nbformat_minor": 2
}
