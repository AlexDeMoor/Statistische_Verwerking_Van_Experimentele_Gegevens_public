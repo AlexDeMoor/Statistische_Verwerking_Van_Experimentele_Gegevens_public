{
 "cells": [
  {
   "cell_type": "markdown",
   "metadata": {},
   "source": [
    "# WPO 1\n",
    "[Oefening 3+4](#oef4)\n",
    "***\n"
   ]
  },
  {
   "cell_type": "code",
   "execution_count": 1,
   "metadata": {},
   "outputs": [],
   "source": [
    "import numpy as np # numerical calculations in python\n",
    "from scipy.optimize import fmin, fsolve\n",
    "from scipy.misc import derivative\n",
    "import matplotlib.pyplot as plt # package for plotting\n",
    "from matplotlib import rc\n",
    "#rc('text', usetex=True)\n",
    "from sympy import *\n",
    "\n",
    "# allow to show plots inline\n",
    "%matplotlib inline "
   ]
  },
  {
   "cell_type": "markdown",
   "metadata": {},
   "source": [
    "<a id=\"oef4\"></a> \n",
    "## Oefening 3+4:\n",
    "Beschouw de transformaties uit vraag 3:\n",
    "\n",
    " $\n",
    "\\begin{cases}\n",
    "     x = R\\cos(\\theta)\\sin(\\phi)\\\\\n",
    "     y = R\\sin(\\theta)\\sin(\\phi)\\\\\n",
    "     z = R\\cos(\\phi)\n",
    "\\end{cases}\n",
    "$\n",
    "\n",
    "en\n",
    "\n",
    "$ \\epsilon = \\frac{4x^2 + y}{z}$\n",
    "\n",
    "Gegeven een verzameling van N metingen ($R_{i},\\theta_{i},\\phi_{i}$) die gaussisch verdeeld zijn rond de theoretische waarden ($R_{t},\\theta_{t},\\phi_{t}$) zoals hieronder gesimuleerd. Wetende dat de covariantiematrix berekend kan worden door\n",
    "### $\\hat{\\tilde{C}}(\\hat{\\vec{q_{ij}}}) = \\frac{1}{N-1} \\sum_{k=1}^{N} (q_{ik} - \\overline{q}_{i})(q_{jk} - \\overline{q}_{j})$\n",
    "wordt er opnieuw de covariantiematrix $\\tilde{C}(x,y,z)$ en de variantie van $\\epsilon$ gevraagd.\n"
   ]
  },
  {
   "cell_type": "code",
   "execution_count": 2,
   "metadata": {},
   "outputs": [],
   "source": [
    "pi = 3.141592654\n",
    "Ris = np.random.normal(30,3,1000);\n",
    "Tis = np.random.normal(40.*pi/180.,4.*pi/180.,1000);\n",
    "Pis = np.random.normal(50.*pi/180.,5.*pi/180.,1000);"
   ]
  },
  {
   "cell_type": "markdown",
   "metadata": {},
   "source": [
    "### Eerst symbolisch"
   ]
  },
  {
   "cell_type": "code",
   "execution_count": 3,
   "metadata": {},
   "outputs": [],
   "source": [
    "x,y,z,x2,y2,z2,r,t,p,eps, sigmaR, sigmat, sigmap, sigmax, sigmay, sigmaz = symbols(r'x y z x2 y2 z2 r t p eps \\sigma_{R} \\sigma_t \\sigma_p \\sigma_x \\sigma_y \\sigma_z')\n"
   ]
  },
  {
   "cell_type": "code",
   "execution_count": 4,
   "metadata": {},
   "outputs": [
    {
     "ename": "SyntaxError",
     "evalue": "invalid syntax (3399621555.py, line 2)",
     "output_type": "error",
     "traceback": [
      "\u001b[0;36m  Input \u001b[0;32mIn [4]\u001b[0;36m\u001b[0m\n\u001b[0;31m    x = #\u001b[0m\n\u001b[0m        ^\u001b[0m\n\u001b[0;31mSyntaxError\u001b[0m\u001b[0;31m:\u001b[0m invalid syntax\n"
     ]
    }
   ],
   "source": [
    "#definieer de variabeletransformatie\n",
    "x = #\n",
    "y = #\n",
    "z = #\n",
    "eps = #"
   ]
  },
  {
   "cell_type": "code",
   "execution_count": 5,
   "metadata": {},
   "outputs": [
    {
     "ename": "SyntaxError",
     "evalue": "'(' was never closed (4123725729.py, line 3)",
     "output_type": "error",
     "traceback": [
      "\u001b[0;36m  Input \u001b[0;32mIn [5]\u001b[0;36m\u001b[0m\n\u001b[0;31m    Crtp = Matrix(###)\u001b[0m\n\u001b[0m                 ^\u001b[0m\n\u001b[0;31mSyntaxError\u001b[0m\u001b[0;31m:\u001b[0m '(' was never closed\n"
     ]
    }
   ],
   "source": [
    "# bepaal de matrices D en Crtp\n",
    "D = Matrix(###)\n",
    "Crtp = Matrix(###)"
   ]
  },
  {
   "cell_type": "code",
   "execution_count": 6,
   "metadata": {},
   "outputs": [
    {
     "ename": "NameError",
     "evalue": "name 'D' is not defined",
     "output_type": "error",
     "traceback": [
      "\u001b[0;31m---------------------------------------------------------------------------\u001b[0m",
      "\u001b[0;31mNameError\u001b[0m                                 Traceback (most recent call last)",
      "Input \u001b[0;32mIn [6]\u001b[0m, in \u001b[0;36m<cell line: 1>\u001b[0;34m()\u001b[0m\n\u001b[0;32m----> 1\u001b[0m \u001b[43mD\u001b[49m\n",
      "\u001b[0;31mNameError\u001b[0m: name 'D' is not defined"
     ]
    }
   ],
   "source": [
    "D"
   ]
  },
  {
   "cell_type": "code",
   "execution_count": null,
   "metadata": {},
   "outputs": [],
   "source": [
    "Crtp"
   ]
  },
  {
   "cell_type": "code",
   "execution_count": 7,
   "metadata": {},
   "outputs": [
    {
     "ename": "SyntaxError",
     "evalue": "invalid syntax (1593722781.py, line 2)",
     "output_type": "error",
     "traceback": [
      "\u001b[0;36m  Input \u001b[0;32mIn [7]\u001b[0;36m\u001b[0m\n\u001b[0;31m    Cxyz = ###\u001b[0m\n\u001b[0m           ^\u001b[0m\n\u001b[0;31mSyntaxError\u001b[0m\u001b[0;31m:\u001b[0m invalid syntax\n"
     ]
    }
   ],
   "source": [
    "# bepaal Cxyz\n",
    "Cxyz = ###"
   ]
  },
  {
   "cell_type": "code",
   "execution_count": 8,
   "metadata": {},
   "outputs": [
    {
     "ename": "NameError",
     "evalue": "name 'Cxyz' is not defined",
     "output_type": "error",
     "traceback": [
      "\u001b[0;31m---------------------------------------------------------------------------\u001b[0m",
      "\u001b[0;31mNameError\u001b[0m                                 Traceback (most recent call last)",
      "Input \u001b[0;32mIn [8]\u001b[0m, in \u001b[0;36m<cell line: 1>\u001b[0;34m()\u001b[0m\n\u001b[0;32m----> 1\u001b[0m \u001b[43mCxyz\u001b[49m\n",
      "\u001b[0;31mNameError\u001b[0m: name 'Cxyz' is not defined"
     ]
    }
   ],
   "source": [
    "Cxyz"
   ]
  },
  {
   "cell_type": "markdown",
   "metadata": {},
   "source": [
    "### Nu numeriek"
   ]
  },
  {
   "cell_type": "code",
   "execution_count": 9,
   "metadata": {},
   "outputs": [],
   "source": [
    "#Bepaal een numerieke uitdrukking voor Crtp aan de hand van de formule in de opgave"
   ]
  },
  {
   "cell_type": "code",
   "execution_count": 10,
   "metadata": {},
   "outputs": [
    {
     "ename": "SyntaxError",
     "evalue": "invalid syntax (2385816474.py, line 2)",
     "output_type": "error",
     "traceback": [
      "\u001b[0;36m  Input \u001b[0;32mIn [10]\u001b[0;36m\u001b[0m\n\u001b[0;31m    D_num = ###\u001b[0m\n\u001b[0m            ^\u001b[0m\n\u001b[0;31mSyntaxError\u001b[0m\u001b[0;31m:\u001b[0m invalid syntax\n"
     ]
    }
   ],
   "source": [
    "# geef ook een numerieke matrix voor D\n",
    "D_num = ###\n",
    "N(D_num,3)"
   ]
  },
  {
   "cell_type": "code",
   "execution_count": 11,
   "metadata": {},
   "outputs": [
    {
     "ename": "SyntaxError",
     "evalue": "invalid syntax (2582489867.py, line 2)",
     "output_type": "error",
     "traceback": [
      "\u001b[0;36m  Input \u001b[0;32mIn [11]\u001b[0;36m\u001b[0m\n\u001b[0;31m    Cxyz_num = #\u001b[0m\n\u001b[0m               ^\u001b[0m\n\u001b[0;31mSyntaxError\u001b[0m\u001b[0;31m:\u001b[0m invalid syntax\n"
     ]
    }
   ],
   "source": [
    "# bepaal uiteindelijk een numerieke uitdrukking voor Cxyz\n",
    "Cxyz_num = #\n",
    "N(Cxyz_num,3)"
   ]
  },
  {
   "cell_type": "code",
   "execution_count": null,
   "metadata": {},
   "outputs": [],
   "source": []
  }
 ],
 "metadata": {
  "kernelspec": {
   "display_name": "Python 3 (ipykernel)",
   "language": "python",
   "name": "python3"
  },
  "language_info": {
   "codemirror_mode": {
    "name": "ipython",
    "version": 3
   },
   "file_extension": ".py",
   "mimetype": "text/x-python",
   "name": "python",
   "nbconvert_exporter": "python",
   "pygments_lexer": "ipython3",
   "version": "3.10.2"
  }
 },
 "nbformat": 4,
 "nbformat_minor": 2
}
