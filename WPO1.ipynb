{
 "cells": [
  {
   "cell_type": "markdown",
   "metadata": {
    "deletable": true,
    "editable": true
   },
   "source": [
    "# WPO 1\n",
    "[Oefening 3+4](#oef4)\n",
    "***\n"
   ]
  },
  {
   "cell_type": "code",
   "execution_count": null,
   "metadata": {
    "collapsed": true,
    "deletable": true,
    "editable": true
   },
   "outputs": [],
   "source": [
    "import numpy as np # numerical calculations in python\n",
    "from scipy.optimize import fmin, fsolve\n",
    "from scipy.misc import derivative\n",
    "import matplotlib.pyplot as plt # package for plotting\n",
    "from matplotlib import rc\n",
    "rc('text', usetex=True)\n",
    "from sympy import *\n",
    "\n",
    "# allow to show plots inline\n",
    "%matplotlib inline "
   ]
  },
  {
   "cell_type": "markdown",
   "metadata": {
    "deletable": true,
    "editable": true
   },
   "source": [
    "<a id=\"oef4\"></a> \n",
    "## Oefening 3+4:\n",
    "Beschouw de transformaties uit vraag 3:\n",
    "\n",
    " $\n",
    "\\begin{cases}\n",
    "     x = R\\cos(\\theta)\\sin(\\phi)\\\\\n",
    "     y = R\\sin(\\theta)\\sin(\\phi)\\\\\n",
    "     z = R\\cos(\\phi)\n",
    "\\end{cases}\n",
    "$\n",
    "\n",
    "en\n",
    "\n",
    "$ \\epsilon = \\frac{4x^2 + y}{z}$\n",
    "\n",
    "Gegeven een verzameling van N metingen ($R_{i},\\theta_{i},\\phi_{i}$) die gaussisch verdeeld zijn rond de theoretische waarden ($R_{t},\\theta_{t},\\phi_{t}$) zoals hieronder gesimuleerd. Wetende dat de covariantiematrix berekend kan worden door\n",
    "### $\\hat{\\tilde{C}}(\\hat{\\vec{q_{ij}}}) = \\frac{1}{N-1} \\sum_{k=1}^{N} (q_{ik} - \\overline{q}_{i})(q_{jk} - \\overline{q}_{j})$\n",
    "wordt er opnieuw de covariantiematrix $\\tilde{C}(x,y,z)$ en de variantie van $\\epsilon$ gevraagd.\n"
   ]
  },
  {
   "cell_type": "code",
   "execution_count": null,
   "metadata": {
    "collapsed": true,
    "deletable": true,
    "editable": true
   },
   "outputs": [],
   "source": [
    "pi = 3.141592654\n",
    "Ris = np.random.normal(30,3,1000);\n",
    "Tis = np.random.normal(40.*pi/180.,4.*pi/180.,1000);\n",
    "Pis = np.random.normal(50.*pi/180.,5.*pi/180.,1000);"
   ]
  },
  {
   "cell_type": "markdown",
   "metadata": {
    "deletable": true,
    "editable": true
   },
   "source": [
    "### Eerst symbolisch"
   ]
  },
  {
   "cell_type": "code",
   "execution_count": null,
   "metadata": {
    "collapsed": true,
    "deletable": true,
    "editable": true
   },
   "outputs": [],
   "source": [
    "x,y,z,x2,y2,z2,r,t,p,eps, sigmaR, sigmat, sigmap, sigmax, sigmay, sigmaz = symbols(r'x y z x2 y2 z2 r t p eps \\sigma_{R} \\sigma_t \\sigma_p \\sigma_x \\sigma_y \\sigma_z')\n"
   ]
  },
  {
   "cell_type": "code",
   "execution_count": null,
   "metadata": {
    "collapsed": true,
    "deletable": true,
    "editable": true
   },
   "outputs": [],
   "source": [
    "#definieer de variabeletransformatie\n",
    "x = #\n",
    "y = #\n",
    "z = #\n",
    "eps = #"
   ]
  },
  {
   "cell_type": "code",
   "execution_count": null,
   "metadata": {
    "collapsed": true,
    "deletable": true,
    "editable": true
   },
   "outputs": [],
   "source": [
    "# bepaal de matrices D en Crtp\n",
    "D = Matrix(###)\n",
    "Crtp = Matrix(###)"
   ]
  },
  {
   "cell_type": "code",
   "execution_count": null,
   "metadata": {
    "collapsed": true,
    "deletable": true,
    "editable": true
   },
   "outputs": [],
   "source": [
    "D"
   ]
  },
  {
   "cell_type": "code",
   "execution_count": null,
   "metadata": {
    "collapsed": true,
    "deletable": true,
    "editable": true
   },
   "outputs": [],
   "source": [
    "Crtp"
   ]
  },
  {
   "cell_type": "code",
   "execution_count": null,
   "metadata": {
    "collapsed": true,
    "deletable": true,
    "editable": true
   },
   "outputs": [],
   "source": [
    "# bepaal Cxyz\n",
    "Cxyz = ###"
   ]
  },
  {
   "cell_type": "code",
   "execution_count": null,
   "metadata": {
    "collapsed": true,
    "deletable": true,
    "editable": true
   },
   "outputs": [],
   "source": [
    "Cxyz"
   ]
  },
  {
   "cell_type": "markdown",
   "metadata": {
    "deletable": true,
    "editable": true
   },
   "source": [
    "### Nu numeriek"
   ]
  },
  {
   "cell_type": "code",
   "execution_count": null,
   "metadata": {
    "collapsed": true,
    "deletable": true,
    "editable": true
   },
   "outputs": [],
   "source": [
    "#Bepaal een numerieke uitdrukking voor Crtp aan de hand van de formule in de opgave"
   ]
  },
  {
   "cell_type": "code",
   "execution_count": null,
   "metadata": {
    "collapsed": true,
    "deletable": true,
    "editable": true
   },
   "outputs": [],
   "source": [
    "# geef ook een numerieke matrix voor D\n",
    "D_num = ###\n",
    "N(D_num,3)"
   ]
  },
  {
   "cell_type": "code",
   "execution_count": null,
   "metadata": {
    "collapsed": true,
    "deletable": true,
    "editable": true
   },
   "outputs": [],
   "source": [
    "# bepaal uiteindelijk een numerieke uitdrukking voor Cxyz\n",
    "Cxyz_num = #\n",
    "N(Cxyz_num,3)"
   ]
  }
 ],
 "metadata": {
  "kernelspec": {
   "display_name": "Python 2",
   "language": "python",
   "name": "python2"
  },
  "language_info": {
   "codemirror_mode": {
    "name": "ipython",
    "version": 2
   },
   "file_extension": ".py",
   "mimetype": "text/x-python",
   "name": "python",
   "nbconvert_exporter": "python",
   "pygments_lexer": "ipython2",
   "version": "2.7.18"
  }
 },
 "nbformat": 4,
 "nbformat_minor": 2
}
